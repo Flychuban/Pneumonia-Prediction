{
  "nbformat": 4,
  "nbformat_minor": 0,
  "metadata": {
    "colab": {
      "provenance": [],
      "mount_file_id": "1Jlh4DUNNMzCDCq6RdqzDQzphfpizxvd_",
      "authorship_tag": "ABX9TyPEAh/JqK+4FAkr2wSk+a58",
      "include_colab_link": true
    },
    "kernelspec": {
      "name": "python3",
      "display_name": "Python 3"
    },
    "language_info": {
      "name": "python"
    }
  },
  "cells": [
    {
      "cell_type": "markdown",
      "metadata": {
        "id": "view-in-github",
        "colab_type": "text"
      },
      "source": [
        "<a href=\"https://colab.research.google.com/github/Flychuban/Pneumonia-Prediction/blob/main/Pneumonia.ipynb\" target=\"_parent\"><img src=\"https://colab.research.google.com/assets/colab-badge.svg\" alt=\"Open In Colab\"/></a>"
      ]
    },
    {
      "cell_type": "code",
      "execution_count": 1,
      "metadata": {
        "id": "8MNzRtvk6HOX"
      },
      "outputs": [],
      "source": [
        "from keras.layers import Dense, Input, Lambda, Flatten\n",
        "from keras.models import Model, Sequential\n",
        "from keras.applications.vgg19 import VGG19\n",
        "from keras.applications.vgg19 import preprocess_input\n",
        "from keras.preprocessing import image\n",
        "from keras.preprocessing.image import ImageDataGenerator\n",
        "import numpy as np\n",
        "from glob import glob\n",
        "from matplotlib import pyplot as plt"
      ]
    },
    {
      "cell_type": "code",
      "source": [
        "# Resize all images\n",
        "images_size = [224, 224]\n",
        "\n",
        "train_path = '/content/drive/MyDrive/PneumoniaPrediction/data/train'\n",
        "test_path = '/content/drive/MyDrive/PneumoniaPrediction/data/test'"
      ],
      "metadata": {
        "id": "GwGPIO_08LGk"
      },
      "execution_count": 2,
      "outputs": []
    },
    {
      "cell_type": "code",
      "source": [
        "vgg = VGG19(input_shape=images_size + [3], weights='imagenet', include_top=False)"
      ],
      "metadata": {
        "colab": {
          "base_uri": "https://localhost:8080/"
        },
        "id": "BQCjjFcD9oNy",
        "outputId": "f2f14245-979b-4643-c02a-c1e6ac032584"
      },
      "execution_count": 3,
      "outputs": [
        {
          "output_type": "stream",
          "name": "stdout",
          "text": [
            "Downloading data from https://storage.googleapis.com/tensorflow/keras-applications/vgg19/vgg19_weights_tf_dim_ordering_tf_kernels_notop.h5\n",
            "80134624/80134624 [==============================] - 0s 0us/step\n"
          ]
        }
      ]
    },
    {
      "cell_type": "code",
      "source": [
        "for layer in vgg.layers:\n",
        "  layer.trainable = False"
      ],
      "metadata": {
        "id": "EeEccESP-ReC"
      },
      "execution_count": 4,
      "outputs": []
    },
    {
      "cell_type": "code",
      "source": [
        "folders = glob(train_path + '/*')"
      ],
      "metadata": {
        "id": "xOHGNLBr-dcX"
      },
      "execution_count": 7,
      "outputs": []
    },
    {
      "cell_type": "code",
      "source": [
        "folders"
      ],
      "metadata": {
        "colab": {
          "base_uri": "https://localhost:8080/"
        },
        "id": "xNnuI6oM-1GR",
        "outputId": "3b466289-c27b-4ede-8df6-c669b0b1c4a6"
      },
      "execution_count": 8,
      "outputs": [
        {
          "output_type": "execute_result",
          "data": {
            "text/plain": [
              "['/content/drive/MyDrive/PneumoniaPrediction/data/train/PNEUMONIA',\n",
              " '/content/drive/MyDrive/PneumoniaPrediction/data/train/NORMAL']"
            ]
          },
          "metadata": {},
          "execution_count": 8
        }
      ]
    },
    {
      "cell_type": "code",
      "source": [],
      "metadata": {
        "id": "kppsmpvQ-5s9"
      },
      "execution_count": null,
      "outputs": []
    }
  ]
}